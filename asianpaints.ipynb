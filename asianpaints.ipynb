{
 "cells": [
  {
   "cell_type": "code",
   "execution_count": 1,
   "id": "e91f0d0e",
   "metadata": {
    "_cell_guid": "b1076dfc-b9ad-4769-8c92-a6c4dae69d19",
    "_uuid": "8f2839f25d086af736a60e9eeb907d3b93b6e0e5",
    "execution": {
     "iopub.execute_input": "2024-04-03T09:28:34.874060Z",
     "iopub.status.busy": "2024-04-03T09:28:34.873411Z",
     "iopub.status.idle": "2024-04-03T09:28:56.564261Z",
     "shell.execute_reply": "2024-04-03T09:28:56.562443Z"
    },
    "papermill": {
     "duration": 21.710982,
     "end_time": "2024-04-03T09:28:56.568457",
     "exception": false,
     "start_time": "2024-04-03T09:28:34.857475",
     "status": "completed"
    },
    "tags": []
   },
   "outputs": [
    {
     "name": "stderr",
     "output_type": "stream",
     "text": [
      "2024-04-03 09:28:37.692950: E external/local_xla/xla/stream_executor/cuda/cuda_dnn.cc:9261] Unable to register cuDNN factory: Attempting to register factory for plugin cuDNN when one has already been registered\n",
      "2024-04-03 09:28:37.693111: E external/local_xla/xla/stream_executor/cuda/cuda_fft.cc:607] Unable to register cuFFT factory: Attempting to register factory for plugin cuFFT when one has already been registered\n",
      "2024-04-03 09:28:37.911373: E external/local_xla/xla/stream_executor/cuda/cuda_blas.cc:1515] Unable to register cuBLAS factory: Attempting to register factory for plugin cuBLAS when one has already been registered\n"
     ]
    }
   ],
   "source": [
    "import tensorflow as tf\n",
    "import pandas as pd\n",
    "import numpy as np\n",
    "import seaborn as sns\n",
    "import matplotlib.pyplot as plt\n",
    "\n",
    "from sklearn.model_selection import train_test_split\n",
    "from sklearn.preprocessing import RobustScaler, MinMaxScaler\n",
    "from keras.layers import GRU, Dropout, Dense, Input"
   ]
  },
  {
   "cell_type": "markdown",
   "id": "dd75962b",
   "metadata": {
    "papermill": {
     "duration": 0.014981,
     "end_time": "2024-04-03T09:28:56.598801",
     "exception": false,
     "start_time": "2024-04-03T09:28:56.583820",
     "status": "completed"
    },
    "tags": []
   },
   "source": [
    "# Exploratory Analysis"
   ]
  },
  {
   "cell_type": "code",
   "execution_count": 2,
   "id": "1bb560c9",
   "metadata": {
    "execution": {
     "iopub.execute_input": "2024-04-03T09:28:56.631628Z",
     "iopub.status.busy": "2024-04-03T09:28:56.630565Z",
     "iopub.status.idle": "2024-04-03T09:28:56.722925Z",
     "shell.execute_reply": "2024-04-03T09:28:56.721380Z"
    },
    "papermill": {
     "duration": 0.112881,
     "end_time": "2024-04-03T09:28:56.726244",
     "exception": false,
     "start_time": "2024-04-03T09:28:56.613363",
     "status": "completed"
    },
    "tags": []
   },
   "outputs": [
    {
     "data": {
      "text/html": [
       "<div>\n",
       "<style scoped>\n",
       "    .dataframe tbody tr th:only-of-type {\n",
       "        vertical-align: middle;\n",
       "    }\n",
       "\n",
       "    .dataframe tbody tr th {\n",
       "        vertical-align: top;\n",
       "    }\n",
       "\n",
       "    .dataframe thead th {\n",
       "        text-align: right;\n",
       "    }\n",
       "</style>\n",
       "<table border=\"1\" class=\"dataframe\">\n",
       "  <thead>\n",
       "    <tr style=\"text-align: right;\">\n",
       "      <th></th>\n",
       "      <th>Date</th>\n",
       "      <th>Symbol</th>\n",
       "      <th>Series</th>\n",
       "      <th>Prev Close</th>\n",
       "      <th>Open</th>\n",
       "      <th>High</th>\n",
       "      <th>Low</th>\n",
       "      <th>Last</th>\n",
       "      <th>Close</th>\n",
       "      <th>VWAP</th>\n",
       "      <th>Volume</th>\n",
       "      <th>Turnover</th>\n",
       "      <th>Trades</th>\n",
       "      <th>Deliverable Volume</th>\n",
       "      <th>%Deliverble</th>\n",
       "    </tr>\n",
       "  </thead>\n",
       "  <tbody>\n",
       "    <tr>\n",
       "      <th>0</th>\n",
       "      <td>2000-01-03</td>\n",
       "      <td>ASIANPAINT</td>\n",
       "      <td>EQ</td>\n",
       "      <td>361.20</td>\n",
       "      <td>370.0</td>\n",
       "      <td>390.0</td>\n",
       "      <td>370.0</td>\n",
       "      <td>385.0</td>\n",
       "      <td>381.65</td>\n",
       "      <td>380.54</td>\n",
       "      <td>3318</td>\n",
       "      <td>1.262617e+11</td>\n",
       "      <td>NaN</td>\n",
       "      <td>NaN</td>\n",
       "      <td>NaN</td>\n",
       "    </tr>\n",
       "    <tr>\n",
       "      <th>1</th>\n",
       "      <td>2000-01-04</td>\n",
       "      <td>ASIANPAINT</td>\n",
       "      <td>EQ</td>\n",
       "      <td>381.65</td>\n",
       "      <td>380.0</td>\n",
       "      <td>392.0</td>\n",
       "      <td>375.0</td>\n",
       "      <td>390.0</td>\n",
       "      <td>385.55</td>\n",
       "      <td>383.50</td>\n",
       "      <td>4818</td>\n",
       "      <td>1.847699e+11</td>\n",
       "      <td>NaN</td>\n",
       "      <td>NaN</td>\n",
       "      <td>NaN</td>\n",
       "    </tr>\n",
       "    <tr>\n",
       "      <th>2</th>\n",
       "      <td>2000-01-05</td>\n",
       "      <td>ASIANPAINT</td>\n",
       "      <td>EQ</td>\n",
       "      <td>385.55</td>\n",
       "      <td>371.5</td>\n",
       "      <td>390.0</td>\n",
       "      <td>371.5</td>\n",
       "      <td>383.0</td>\n",
       "      <td>383.00</td>\n",
       "      <td>379.81</td>\n",
       "      <td>2628</td>\n",
       "      <td>9.981384e+10</td>\n",
       "      <td>NaN</td>\n",
       "      <td>NaN</td>\n",
       "      <td>NaN</td>\n",
       "    </tr>\n",
       "    <tr>\n",
       "      <th>3</th>\n",
       "      <td>2000-01-06</td>\n",
       "      <td>ASIANPAINT</td>\n",
       "      <td>EQ</td>\n",
       "      <td>383.00</td>\n",
       "      <td>384.9</td>\n",
       "      <td>384.9</td>\n",
       "      <td>374.5</td>\n",
       "      <td>375.1</td>\n",
       "      <td>377.50</td>\n",
       "      <td>379.88</td>\n",
       "      <td>3354</td>\n",
       "      <td>1.274114e+11</td>\n",
       "      <td>NaN</td>\n",
       "      <td>NaN</td>\n",
       "      <td>NaN</td>\n",
       "    </tr>\n",
       "    <tr>\n",
       "      <th>4</th>\n",
       "      <td>2000-01-07</td>\n",
       "      <td>ASIANPAINT</td>\n",
       "      <td>EQ</td>\n",
       "      <td>377.50</td>\n",
       "      <td>376.0</td>\n",
       "      <td>390.0</td>\n",
       "      <td>370.0</td>\n",
       "      <td>389.0</td>\n",
       "      <td>385.70</td>\n",
       "      <td>383.38</td>\n",
       "      <td>9589</td>\n",
       "      <td>3.676275e+11</td>\n",
       "      <td>NaN</td>\n",
       "      <td>NaN</td>\n",
       "      <td>NaN</td>\n",
       "    </tr>\n",
       "  </tbody>\n",
       "</table>\n",
       "</div>"
      ],
      "text/plain": [
       "         Date      Symbol Series  Prev Close   Open   High    Low   Last  \\\n",
       "0  2000-01-03  ASIANPAINT     EQ      361.20  370.0  390.0  370.0  385.0   \n",
       "1  2000-01-04  ASIANPAINT     EQ      381.65  380.0  392.0  375.0  390.0   \n",
       "2  2000-01-05  ASIANPAINT     EQ      385.55  371.5  390.0  371.5  383.0   \n",
       "3  2000-01-06  ASIANPAINT     EQ      383.00  384.9  384.9  374.5  375.1   \n",
       "4  2000-01-07  ASIANPAINT     EQ      377.50  376.0  390.0  370.0  389.0   \n",
       "\n",
       "    Close    VWAP  Volume      Turnover  Trades  Deliverable Volume  \\\n",
       "0  381.65  380.54    3318  1.262617e+11     NaN                 NaN   \n",
       "1  385.55  383.50    4818  1.847699e+11     NaN                 NaN   \n",
       "2  383.00  379.81    2628  9.981384e+10     NaN                 NaN   \n",
       "3  377.50  379.88    3354  1.274114e+11     NaN                 NaN   \n",
       "4  385.70  383.38    9589  3.676275e+11     NaN                 NaN   \n",
       "\n",
       "   %Deliverble  \n",
       "0          NaN  \n",
       "1          NaN  \n",
       "2          NaN  \n",
       "3          NaN  \n",
       "4          NaN  "
      ]
     },
     "execution_count": 2,
     "metadata": {},
     "output_type": "execute_result"
    }
   ],
   "source": [
    "df = pd.read_csv('/kaggle/input/nifty50-stock-market-data/ASIANPAINT.csv')\n",
    "df.head()"
   ]
  },
  {
   "cell_type": "code",
   "execution_count": 3,
   "id": "d90a1c0b",
   "metadata": {
    "execution": {
     "iopub.execute_input": "2024-04-03T09:28:56.756184Z",
     "iopub.status.busy": "2024-04-03T09:28:56.755689Z",
     "iopub.status.idle": "2024-04-03T09:28:56.797056Z",
     "shell.execute_reply": "2024-04-03T09:28:56.794677Z"
    },
    "papermill": {
     "duration": 0.060287,
     "end_time": "2024-04-03T09:28:56.800462",
     "exception": false,
     "start_time": "2024-04-03T09:28:56.740175",
     "status": "completed"
    },
    "tags": []
   },
   "outputs": [
    {
     "name": "stdout",
     "output_type": "stream",
     "text": [
      "<class 'pandas.core.frame.DataFrame'>\n",
      "RangeIndex: 5306 entries, 0 to 5305\n",
      "Data columns (total 15 columns):\n",
      " #   Column              Non-Null Count  Dtype  \n",
      "---  ------              --------------  -----  \n",
      " 0   Date                5306 non-null   object \n",
      " 1   Symbol              5306 non-null   object \n",
      " 2   Series              5306 non-null   object \n",
      " 3   Prev Close          5306 non-null   float64\n",
      " 4   Open                5306 non-null   float64\n",
      " 5   High                5306 non-null   float64\n",
      " 6   Low                 5306 non-null   float64\n",
      " 7   Last                5306 non-null   float64\n",
      " 8   Close               5306 non-null   float64\n",
      " 9   VWAP                5306 non-null   float64\n",
      " 10  Volume              5306 non-null   int64  \n",
      " 11  Turnover            5306 non-null   float64\n",
      " 12  Trades              2456 non-null   float64\n",
      " 13  Deliverable Volume  4797 non-null   float64\n",
      " 14  %Deliverble         4797 non-null   float64\n",
      "dtypes: float64(11), int64(1), object(3)\n",
      "memory usage: 621.9+ KB\n"
     ]
    }
   ],
   "source": [
    "df.info()"
   ]
  },
  {
   "cell_type": "code",
   "execution_count": 4,
   "id": "b2787736",
   "metadata": {
    "execution": {
     "iopub.execute_input": "2024-04-03T09:28:56.834819Z",
     "iopub.status.busy": "2024-04-03T09:28:56.834288Z",
     "iopub.status.idle": "2024-04-03T09:28:56.902385Z",
     "shell.execute_reply": "2024-04-03T09:28:56.900285Z"
    },
    "papermill": {
     "duration": 0.089549,
     "end_time": "2024-04-03T09:28:56.906718",
     "exception": false,
     "start_time": "2024-04-03T09:28:56.817169",
     "status": "completed"
    },
    "tags": []
   },
   "outputs": [
    {
     "data": {
      "text/html": [
       "<div>\n",
       "<style scoped>\n",
       "    .dataframe tbody tr th:only-of-type {\n",
       "        vertical-align: middle;\n",
       "    }\n",
       "\n",
       "    .dataframe tbody tr th {\n",
       "        vertical-align: top;\n",
       "    }\n",
       "\n",
       "    .dataframe thead th {\n",
       "        text-align: right;\n",
       "    }\n",
       "</style>\n",
       "<table border=\"1\" class=\"dataframe\">\n",
       "  <thead>\n",
       "    <tr style=\"text-align: right;\">\n",
       "      <th></th>\n",
       "      <th>Prev Close</th>\n",
       "      <th>Open</th>\n",
       "      <th>High</th>\n",
       "      <th>Low</th>\n",
       "      <th>Last</th>\n",
       "      <th>Close</th>\n",
       "      <th>VWAP</th>\n",
       "      <th>Volume</th>\n",
       "      <th>Turnover</th>\n",
       "      <th>Trades</th>\n",
       "      <th>Deliverable Volume</th>\n",
       "      <th>%Deliverble</th>\n",
       "    </tr>\n",
       "  </thead>\n",
       "  <tbody>\n",
       "    <tr>\n",
       "      <th>count</th>\n",
       "      <td>5306.000000</td>\n",
       "      <td>5306.000000</td>\n",
       "      <td>5306.000000</td>\n",
       "      <td>5306.000000</td>\n",
       "      <td>5306.000000</td>\n",
       "      <td>5306.000000</td>\n",
       "      <td>5306.000000</td>\n",
       "      <td>5.306000e+03</td>\n",
       "      <td>5.306000e+03</td>\n",
       "      <td>2456.000000</td>\n",
       "      <td>4.797000e+03</td>\n",
       "      <td>4797.000000</td>\n",
       "    </tr>\n",
       "    <tr>\n",
       "      <th>mean</th>\n",
       "      <td>1247.000952</td>\n",
       "      <td>1247.683952</td>\n",
       "      <td>1264.625349</td>\n",
       "      <td>1230.900697</td>\n",
       "      <td>1247.317132</td>\n",
       "      <td>1247.410903</td>\n",
       "      <td>1247.799926</td>\n",
       "      <td>5.096721e+05</td>\n",
       "      <td>6.942919e+13</td>\n",
       "      <td>41346.011401</td>\n",
       "      <td>2.751281e+05</td>\n",
       "      <td>0.625572</td>\n",
       "    </tr>\n",
       "    <tr>\n",
       "      <th>std</th>\n",
       "      <td>1074.399506</td>\n",
       "      <td>1074.025577</td>\n",
       "      <td>1087.238871</td>\n",
       "      <td>1062.629409</td>\n",
       "      <td>1074.432667</td>\n",
       "      <td>1074.476439</td>\n",
       "      <td>1075.057438</td>\n",
       "      <td>8.535993e+05</td>\n",
       "      <td>1.443973e+14</td>\n",
       "      <td>36435.449733</td>\n",
       "      <td>4.157465e+05</td>\n",
       "      <td>0.187597</td>\n",
       "    </tr>\n",
       "    <tr>\n",
       "      <th>min</th>\n",
       "      <td>210.750000</td>\n",
       "      <td>210.000000</td>\n",
       "      <td>215.750000</td>\n",
       "      <td>204.000000</td>\n",
       "      <td>210.600000</td>\n",
       "      <td>210.750000</td>\n",
       "      <td>212.220000</td>\n",
       "      <td>2.500000e+01</td>\n",
       "      <td>1.278415e+09</td>\n",
       "      <td>70.000000</td>\n",
       "      <td>2.500000e+01</td>\n",
       "      <td>0.076800</td>\n",
       "    </tr>\n",
       "    <tr>\n",
       "      <th>25%</th>\n",
       "      <td>415.737500</td>\n",
       "      <td>415.000000</td>\n",
       "      <td>424.950000</td>\n",
       "      <td>410.000000</td>\n",
       "      <td>416.000000</td>\n",
       "      <td>416.262500</td>\n",
       "      <td>415.692500</td>\n",
       "      <td>1.370750e+04</td>\n",
       "      <td>7.538133e+11</td>\n",
       "      <td>16264.750000</td>\n",
       "      <td>1.262200e+04</td>\n",
       "      <td>0.486200</td>\n",
       "    </tr>\n",
       "    <tr>\n",
       "      <th>50%</th>\n",
       "      <td>889.375000</td>\n",
       "      <td>890.000000</td>\n",
       "      <td>903.975000</td>\n",
       "      <td>878.075000</td>\n",
       "      <td>890.000000</td>\n",
       "      <td>889.475000</td>\n",
       "      <td>888.350000</td>\n",
       "      <td>5.713600e+04</td>\n",
       "      <td>1.109437e+13</td>\n",
       "      <td>32402.500000</td>\n",
       "      <td>5.273800e+04</td>\n",
       "      <td>0.616100</td>\n",
       "    </tr>\n",
       "    <tr>\n",
       "      <th>75%</th>\n",
       "      <td>1599.037500</td>\n",
       "      <td>1599.800000</td>\n",
       "      <td>1629.675000</td>\n",
       "      <td>1573.037500</td>\n",
       "      <td>1602.500000</td>\n",
       "      <td>1600.762500</td>\n",
       "      <td>1600.982500</td>\n",
       "      <td>8.077905e+05</td>\n",
       "      <td>7.761479e+13</td>\n",
       "      <td>54727.500000</td>\n",
       "      <td>4.383750e+05</td>\n",
       "      <td>0.765500</td>\n",
       "    </tr>\n",
       "    <tr>\n",
       "      <th>max</th>\n",
       "      <td>5213.100000</td>\n",
       "      <td>5221.100000</td>\n",
       "      <td>5247.750000</td>\n",
       "      <td>5150.050000</td>\n",
       "      <td>5221.100000</td>\n",
       "      <td>5213.100000</td>\n",
       "      <td>5175.790000</td>\n",
       "      <td>1.154594e+07</td>\n",
       "      <td>2.216650e+15</td>\n",
       "      <td>351347.000000</td>\n",
       "      <td>7.938427e+06</td>\n",
       "      <td>1.000000</td>\n",
       "    </tr>\n",
       "  </tbody>\n",
       "</table>\n",
       "</div>"
      ],
      "text/plain": [
       "        Prev Close         Open         High          Low         Last  \\\n",
       "count  5306.000000  5306.000000  5306.000000  5306.000000  5306.000000   \n",
       "mean   1247.000952  1247.683952  1264.625349  1230.900697  1247.317132   \n",
       "std    1074.399506  1074.025577  1087.238871  1062.629409  1074.432667   \n",
       "min     210.750000   210.000000   215.750000   204.000000   210.600000   \n",
       "25%     415.737500   415.000000   424.950000   410.000000   416.000000   \n",
       "50%     889.375000   890.000000   903.975000   878.075000   890.000000   \n",
       "75%    1599.037500  1599.800000  1629.675000  1573.037500  1602.500000   \n",
       "max    5213.100000  5221.100000  5247.750000  5150.050000  5221.100000   \n",
       "\n",
       "             Close         VWAP        Volume      Turnover         Trades  \\\n",
       "count  5306.000000  5306.000000  5.306000e+03  5.306000e+03    2456.000000   \n",
       "mean   1247.410903  1247.799926  5.096721e+05  6.942919e+13   41346.011401   \n",
       "std    1074.476439  1075.057438  8.535993e+05  1.443973e+14   36435.449733   \n",
       "min     210.750000   212.220000  2.500000e+01  1.278415e+09      70.000000   \n",
       "25%     416.262500   415.692500  1.370750e+04  7.538133e+11   16264.750000   \n",
       "50%     889.475000   888.350000  5.713600e+04  1.109437e+13   32402.500000   \n",
       "75%    1600.762500  1600.982500  8.077905e+05  7.761479e+13   54727.500000   \n",
       "max    5213.100000  5175.790000  1.154594e+07  2.216650e+15  351347.000000   \n",
       "\n",
       "       Deliverable Volume  %Deliverble  \n",
       "count        4.797000e+03  4797.000000  \n",
       "mean         2.751281e+05     0.625572  \n",
       "std          4.157465e+05     0.187597  \n",
       "min          2.500000e+01     0.076800  \n",
       "25%          1.262200e+04     0.486200  \n",
       "50%          5.273800e+04     0.616100  \n",
       "75%          4.383750e+05     0.765500  \n",
       "max          7.938427e+06     1.000000  "
      ]
     },
     "execution_count": 4,
     "metadata": {},
     "output_type": "execute_result"
    }
   ],
   "source": [
    "df.describe()"
   ]
  },
  {
   "cell_type": "code",
   "execution_count": 5,
   "id": "60bad83f",
   "metadata": {
    "execution": {
     "iopub.execute_input": "2024-04-03T09:28:56.941433Z",
     "iopub.status.busy": "2024-04-03T09:28:56.940920Z",
     "iopub.status.idle": "2024-04-03T09:28:56.961497Z",
     "shell.execute_reply": "2024-04-03T09:28:56.959873Z"
    },
    "papermill": {
     "duration": 0.041934,
     "end_time": "2024-04-03T09:28:56.965358",
     "exception": false,
     "start_time": "2024-04-03T09:28:56.923424",
     "status": "completed"
    },
    "tags": []
   },
   "outputs": [
    {
     "name": "stdout",
     "output_type": "stream",
     "text": [
      "col name: Date\n",
      "2000-01-03    1\n",
      "2014-03-10    1\n",
      "2014-03-06    1\n",
      "2014-03-05    1\n",
      "2014-03-04    1\n",
      "             ..\n",
      "2007-01-16    1\n",
      "2007-01-15    1\n",
      "2007-01-12    1\n",
      "2007-01-11    1\n",
      "2021-04-30    1\n",
      "Name: count, Length: 5306, dtype: int64 \n",
      "\n",
      " -------------------------\n",
      "col name: Symbol\n",
      "ASIANPAINT    5306\n",
      "Name: count, dtype: int64 \n",
      "\n",
      " -------------------------\n",
      "col name: Series\n",
      "EQ    5306\n",
      "Name: count, dtype: int64 \n",
      "\n",
      " -------------------------\n"
     ]
    }
   ],
   "source": [
    "for i in df.columns:\n",
    "    if df[i].dtype == 'object':\n",
    "        print('col name:', df[i].value_counts(), '\\n\\n', '-----'*5)"
   ]
  },
  {
   "cell_type": "code",
   "execution_count": 6,
   "id": "7f1b1eb2",
   "metadata": {
    "execution": {
     "iopub.execute_input": "2024-04-03T09:28:56.997364Z",
     "iopub.status.busy": "2024-04-03T09:28:56.996823Z",
     "iopub.status.idle": "2024-04-03T09:28:57.032689Z",
     "shell.execute_reply": "2024-04-03T09:28:57.030839Z"
    },
    "papermill": {
     "duration": 0.055093,
     "end_time": "2024-04-03T09:28:57.035615",
     "exception": false,
     "start_time": "2024-04-03T09:28:56.980522",
     "status": "completed"
    },
    "tags": []
   },
   "outputs": [
    {
     "name": "stdout",
     "output_type": "stream",
     "text": [
      "Max and Min value in Prev Close are: 5213.1 and 210.75\n",
      "\t\t\tmean is 1247.0009517527328\n",
      "Max and Min value in Open are: 5221.1 and 210.0\n",
      "\t\t\tmean is 1247.6839521296647\n",
      "Max and Min value in High are: 5247.75 and 215.75\n",
      "\t\t\tmean is 1264.625348661892\n",
      "Max and Min value in Low are: 5150.05 and 204.0\n",
      "\t\t\tmean is 1230.9006973237842\n",
      "Max and Min value in Last are: 5221.1 and 210.6\n",
      "\t\t\tmean is 1247.3171315491895\n",
      "Max and Min value in Close are: 5213.1 and 210.75\n",
      "\t\t\tmean is 1247.410902751602\n",
      "Max and Min value in VWAP are: 5175.79 and 212.22\n",
      "\t\t\tmean is 1247.7999264983039\n",
      "Max and Min value in Turnover are: 2216650151945000.0 and 1278415000.0\n",
      "\t\t\tmean is 69429185649621.18\n",
      "Max and Min value in Trades are: nan and nan\n",
      "\t\t\tmean is 41346.01140065146\n",
      "Max and Min value in Deliverable Volume are: nan and nan\n",
      "\t\t\tmean is 275128.10339795705\n",
      "Max and Min value in %Deliverble are: nan and nan\n",
      "\t\t\tmean is 0.6255723785699395\n"
     ]
    }
   ],
   "source": [
    "for col in df.columns:\n",
    "    if df[col].dtype == 'float64': \n",
    "        print(f'Max and Min value in {col} are: {max(df[col])} and {min(df[col])}')\n",
    "        print(f'\\t\\t\\tmean is {df[col].mean()}')"
   ]
  },
  {
   "cell_type": "markdown",
   "id": "68f3230f",
   "metadata": {
    "papermill": {
     "duration": 0.013953,
     "end_time": "2024-04-03T09:28:57.064403",
     "exception": false,
     "start_time": "2024-04-03T09:28:57.050450",
     "status": "completed"
    },
    "tags": []
   },
   "source": [
    "# Feature Engineering and Selection"
   ]
  },
  {
   "cell_type": "code",
   "execution_count": 7,
   "id": "63a3510b",
   "metadata": {
    "execution": {
     "iopub.execute_input": "2024-04-03T09:28:57.097345Z",
     "iopub.status.busy": "2024-04-03T09:28:57.096394Z",
     "iopub.status.idle": "2024-04-03T09:28:57.104785Z",
     "shell.execute_reply": "2024-04-03T09:28:57.103145Z"
    },
    "papermill": {
     "duration": 0.028901,
     "end_time": "2024-04-03T09:28:57.108483",
     "exception": false,
     "start_time": "2024-04-03T09:28:57.079582",
     "status": "completed"
    },
    "tags": []
   },
   "outputs": [],
   "source": [
    "df_cleaned = df.copy()"
   ]
  },
  {
   "cell_type": "code",
   "execution_count": 8,
   "id": "f263c5d2",
   "metadata": {
    "execution": {
     "iopub.execute_input": "2024-04-03T09:28:57.140938Z",
     "iopub.status.busy": "2024-04-03T09:28:57.140080Z",
     "iopub.status.idle": "2024-04-03T09:28:57.168290Z",
     "shell.execute_reply": "2024-04-03T09:28:57.166095Z"
    },
    "papermill": {
     "duration": 0.049046,
     "end_time": "2024-04-03T09:28:57.172383",
     "exception": false,
     "start_time": "2024-04-03T09:28:57.123337",
     "status": "completed"
    },
    "tags": []
   },
   "outputs": [
    {
     "data": {
      "text/html": [
       "<div>\n",
       "<style scoped>\n",
       "    .dataframe tbody tr th:only-of-type {\n",
       "        vertical-align: middle;\n",
       "    }\n",
       "\n",
       "    .dataframe tbody tr th {\n",
       "        vertical-align: top;\n",
       "    }\n",
       "\n",
       "    .dataframe thead th {\n",
       "        text-align: right;\n",
       "    }\n",
       "</style>\n",
       "<table border=\"1\" class=\"dataframe\">\n",
       "  <thead>\n",
       "    <tr style=\"text-align: right;\">\n",
       "      <th></th>\n",
       "      <th>Date</th>\n",
       "      <th>Symbol</th>\n",
       "      <th>Series</th>\n",
       "      <th>Prev Close</th>\n",
       "      <th>Open</th>\n",
       "      <th>High</th>\n",
       "      <th>Low</th>\n",
       "      <th>Last</th>\n",
       "      <th>Close</th>\n",
       "      <th>VWAP</th>\n",
       "      <th>Volume</th>\n",
       "      <th>Turnover</th>\n",
       "      <th>Trades</th>\n",
       "      <th>Deliverable Volume</th>\n",
       "      <th>%Deliverble</th>\n",
       "    </tr>\n",
       "  </thead>\n",
       "  <tbody>\n",
       "    <tr>\n",
       "      <th>0</th>\n",
       "      <td>2000-01-03</td>\n",
       "      <td>ASIANPAINT</td>\n",
       "      <td>EQ</td>\n",
       "      <td>361.20</td>\n",
       "      <td>370.0</td>\n",
       "      <td>390.0</td>\n",
       "      <td>370.0</td>\n",
       "      <td>385.0</td>\n",
       "      <td>381.65</td>\n",
       "      <td>380.54</td>\n",
       "      <td>3318</td>\n",
       "      <td>1.262617e+11</td>\n",
       "      <td>NaN</td>\n",
       "      <td>NaN</td>\n",
       "      <td>NaN</td>\n",
       "    </tr>\n",
       "    <tr>\n",
       "      <th>1</th>\n",
       "      <td>2000-01-04</td>\n",
       "      <td>ASIANPAINT</td>\n",
       "      <td>EQ</td>\n",
       "      <td>381.65</td>\n",
       "      <td>380.0</td>\n",
       "      <td>392.0</td>\n",
       "      <td>375.0</td>\n",
       "      <td>390.0</td>\n",
       "      <td>385.55</td>\n",
       "      <td>383.50</td>\n",
       "      <td>4818</td>\n",
       "      <td>1.847699e+11</td>\n",
       "      <td>NaN</td>\n",
       "      <td>NaN</td>\n",
       "      <td>NaN</td>\n",
       "    </tr>\n",
       "    <tr>\n",
       "      <th>2</th>\n",
       "      <td>2000-01-05</td>\n",
       "      <td>ASIANPAINT</td>\n",
       "      <td>EQ</td>\n",
       "      <td>385.55</td>\n",
       "      <td>371.5</td>\n",
       "      <td>390.0</td>\n",
       "      <td>371.5</td>\n",
       "      <td>383.0</td>\n",
       "      <td>383.00</td>\n",
       "      <td>379.81</td>\n",
       "      <td>2628</td>\n",
       "      <td>9.981384e+10</td>\n",
       "      <td>NaN</td>\n",
       "      <td>NaN</td>\n",
       "      <td>NaN</td>\n",
       "    </tr>\n",
       "    <tr>\n",
       "      <th>3</th>\n",
       "      <td>2000-01-06</td>\n",
       "      <td>ASIANPAINT</td>\n",
       "      <td>EQ</td>\n",
       "      <td>383.00</td>\n",
       "      <td>384.9</td>\n",
       "      <td>384.9</td>\n",
       "      <td>374.5</td>\n",
       "      <td>375.1</td>\n",
       "      <td>377.50</td>\n",
       "      <td>379.88</td>\n",
       "      <td>3354</td>\n",
       "      <td>1.274114e+11</td>\n",
       "      <td>NaN</td>\n",
       "      <td>NaN</td>\n",
       "      <td>NaN</td>\n",
       "    </tr>\n",
       "    <tr>\n",
       "      <th>4</th>\n",
       "      <td>2000-01-07</td>\n",
       "      <td>ASIANPAINT</td>\n",
       "      <td>EQ</td>\n",
       "      <td>377.50</td>\n",
       "      <td>376.0</td>\n",
       "      <td>390.0</td>\n",
       "      <td>370.0</td>\n",
       "      <td>389.0</td>\n",
       "      <td>385.70</td>\n",
       "      <td>383.38</td>\n",
       "      <td>9589</td>\n",
       "      <td>3.676275e+11</td>\n",
       "      <td>NaN</td>\n",
       "      <td>NaN</td>\n",
       "      <td>NaN</td>\n",
       "    </tr>\n",
       "  </tbody>\n",
       "</table>\n",
       "</div>"
      ],
      "text/plain": [
       "         Date      Symbol Series  Prev Close   Open   High    Low   Last  \\\n",
       "0  2000-01-03  ASIANPAINT     EQ      361.20  370.0  390.0  370.0  385.0   \n",
       "1  2000-01-04  ASIANPAINT     EQ      381.65  380.0  392.0  375.0  390.0   \n",
       "2  2000-01-05  ASIANPAINT     EQ      385.55  371.5  390.0  371.5  383.0   \n",
       "3  2000-01-06  ASIANPAINT     EQ      383.00  384.9  384.9  374.5  375.1   \n",
       "4  2000-01-07  ASIANPAINT     EQ      377.50  376.0  390.0  370.0  389.0   \n",
       "\n",
       "    Close    VWAP  Volume      Turnover  Trades  Deliverable Volume  \\\n",
       "0  381.65  380.54    3318  1.262617e+11     NaN                 NaN   \n",
       "1  385.55  383.50    4818  1.847699e+11     NaN                 NaN   \n",
       "2  383.00  379.81    2628  9.981384e+10     NaN                 NaN   \n",
       "3  377.50  379.88    3354  1.274114e+11     NaN                 NaN   \n",
       "4  385.70  383.38    9589  3.676275e+11     NaN                 NaN   \n",
       "\n",
       "   %Deliverble  \n",
       "0          NaN  \n",
       "1          NaN  \n",
       "2          NaN  \n",
       "3          NaN  \n",
       "4          NaN  "
      ]
     },
     "execution_count": 8,
     "metadata": {},
     "output_type": "execute_result"
    }
   ],
   "source": [
    "df_cleaned.head()"
   ]
  },
  {
   "cell_type": "code",
   "execution_count": 9,
   "id": "6042cf8b",
   "metadata": {
    "execution": {
     "iopub.execute_input": "2024-04-03T09:28:57.208263Z",
     "iopub.status.busy": "2024-04-03T09:28:57.207826Z",
     "iopub.status.idle": "2024-04-03T09:28:57.219766Z",
     "shell.execute_reply": "2024-04-03T09:28:57.218004Z"
    },
    "papermill": {
     "duration": 0.033441,
     "end_time": "2024-04-03T09:28:57.223514",
     "exception": false,
     "start_time": "2024-04-03T09:28:57.190073",
     "status": "completed"
    },
    "tags": []
   },
   "outputs": [],
   "source": [
    "df_cleaned.drop(columns=['Symbol', 'Series'], inplace=True)"
   ]
  },
  {
   "cell_type": "markdown",
   "id": "62bac266",
   "metadata": {
    "papermill": {
     "duration": 0.020035,
     "end_time": "2024-04-03T09:28:57.261168",
     "exception": false,
     "start_time": "2024-04-03T09:28:57.241133",
     "status": "completed"
    },
    "tags": []
   },
   "source": [
    "<div style='background-color: #e1d9f0; text-align: center; border-radius: 20px; font-size:20px; color:black'>Volume-weighted average price (VWAP) is a financial metric that measures the average price of a security or asset traded during a trading session, adjusted for the total volume of transactions. It's calculated using the opening price for each day, adjusted in real time until the close of the session. The formula for VWAP is: VWAP = (Cumulative typical price x volume)/cumulative volume.</div>"
   ]
  },
  {
   "cell_type": "markdown",
   "id": "3ce4292b",
   "metadata": {
    "papermill": {
     "duration": 0.015359,
     "end_time": "2024-04-03T09:28:57.293450",
     "exception": false,
     "start_time": "2024-04-03T09:28:57.278091",
     "status": "completed"
    },
    "tags": []
   },
   "source": [
    "- Date: This column can be useful for sorting and organizing the data. However, it may not directly contribute to the prediction unless you engineer features like day of the week, month, etc.\n",
    "\n",
    "- Prev Close: The previous day's closing price can provide important information about the trend and momentum of the stock.\n",
    "\n",
    "- Open: The opening price of the stock on the current day provides the starting point for trading activity and can influence subsequent price movements.\n",
    "\n",
    "- High: The highest price reached during the trading day can indicate bullish momentum or resistance levels.\n",
    "\n",
    "- Low: The lowest price reached during the trading day can indicate bearish momentum or support levels.\n",
    "\n",
    "- Last: The last traded price before the close can provide additional information about intraday trading dynamics.\n",
    "\n",
    "- Close: The closing price of the stock on the current day is often the most important for analysis and prediction tasks.\n",
    "\n",
    "- Volume: Trading volume represents the number of shares traded during the day and can provide insights into market interest and liquidity.\n",
    "\n",
    "- Turnover: Turnover represents the total value of stocks traded during the day and can provide additional context, especially in conjunction with volume.\n",
    "\n",
    "- Trades: The number of trades executed during the day can provide insights into market activity and investor sentiment.\n",
    "\n",
    "- Deliverable Volume: The volume of shares that were delivered (settled) during the trading day can provide insights into investor behavior and institutional trading.\n",
    "\n",
    "- %Deliverble: The percentage of deliverable volume relative to total volume can provide insights into the quality of trading activity and investor participation."
   ]
  },
  {
   "cell_type": "code",
   "execution_count": 10,
   "id": "f9295275",
   "metadata": {
    "execution": {
     "iopub.execute_input": "2024-04-03T09:28:57.330714Z",
     "iopub.status.busy": "2024-04-03T09:28:57.330142Z",
     "iopub.status.idle": "2024-04-03T09:28:57.339321Z",
     "shell.execute_reply": "2024-04-03T09:28:57.337757Z"
    },
    "papermill": {
     "duration": 0.030558,
     "end_time": "2024-04-03T09:28:57.342233",
     "exception": false,
     "start_time": "2024-04-03T09:28:57.311675",
     "status": "completed"
    },
    "tags": []
   },
   "outputs": [
    {
     "data": {
      "text/plain": [
       "Index(['Date', 'Prev Close', 'Open', 'High', 'Low', 'Last', 'Close', 'VWAP',\n",
       "       'Volume', 'Turnover', 'Trades', 'Deliverable Volume', '%Deliverble'],\n",
       "      dtype='object')"
      ]
     },
     "execution_count": 10,
     "metadata": {},
     "output_type": "execute_result"
    }
   ],
   "source": [
    "df_cleaned.columns"
   ]
  },
  {
   "cell_type": "code",
   "execution_count": 11,
   "id": "f4c822c2",
   "metadata": {
    "execution": {
     "iopub.execute_input": "2024-04-03T09:28:57.376956Z",
     "iopub.status.busy": "2024-04-03T09:28:57.376438Z",
     "iopub.status.idle": "2024-04-03T09:28:57.385661Z",
     "shell.execute_reply": "2024-04-03T09:28:57.384023Z"
    },
    "papermill": {
     "duration": 0.030062,
     "end_time": "2024-04-03T09:28:57.389087",
     "exception": false,
     "start_time": "2024-04-03T09:28:57.359025",
     "status": "completed"
    },
    "tags": []
   },
   "outputs": [],
   "source": [
    "df_cleaned.drop(columns=['Deliverable Volume', 'Trades', '%Deliverble', 'Last', 'Turnover', 'Volume', 'High', 'Low'], inplace=True)"
   ]
  },
  {
   "cell_type": "code",
   "execution_count": 12,
   "id": "1c5af5b6",
   "metadata": {
    "execution": {
     "iopub.execute_input": "2024-04-03T09:28:57.427002Z",
     "iopub.status.busy": "2024-04-03T09:28:57.426494Z",
     "iopub.status.idle": "2024-04-03T09:29:55.386222Z",
     "shell.execute_reply": "2024-04-03T09:29:55.384499Z"
    },
    "papermill": {
     "duration": 57.998669,
     "end_time": "2024-04-03T09:29:55.405083",
     "exception": false,
     "start_time": "2024-04-03T09:28:57.406414",
     "status": "completed"
    },
    "tags": []
   },
   "outputs": [
    {
     "data": {
      "image/png": "[encoded data removed]",
      "text/plain": [
       "<Figure size 640x480 with 1 Axes>"
      ]
     },
     "metadata": {},
     "output_type": "display_data"
    }
   ],
   "source": [
    "plt.plot(df_cleaned.Date, df_cleaned.Close)\n",
    "plt.show()"
   ]
  },
  {
   "cell_type": "code",
   "execution_count": 13,
   "id": "658c059f",
   "metadata": {
    "execution": {
     "iopub.execute_input": "2024-04-03T09:29:55.441381Z",
     "iopub.status.busy": "2024-04-03T09:29:55.440757Z",
     "iopub.status.idle": "2024-04-03T09:29:55.449192Z",
     "shell.execute_reply": "2024-04-03T09:29:55.447298Z"
    },
    "papermill": {
     "duration": 0.030432,
     "end_time": "2024-04-03T09:29:55.452643",
     "exception": false,
     "start_time": "2024-04-03T09:29:55.422211",
     "status": "completed"
    },
    "tags": []
   },
   "outputs": [],
   "source": [
    "df_cleaned.set_index(keys='Date', inplace=True)"
   ]
  },
  {
   "cell_type": "code",
   "execution_count": 14,
   "id": "a4fc9639",
   "metadata": {
    "execution": {
     "iopub.execute_input": "2024-04-03T09:29:55.486805Z",
     "iopub.status.busy": "2024-04-03T09:29:55.486222Z",
     "iopub.status.idle": "2024-04-03T09:29:55.498790Z",
     "shell.execute_reply": "2024-04-03T09:29:55.497345Z"
    },
    "papermill": {
     "duration": 0.033325,
     "end_time": "2024-04-03T09:29:55.502181",
     "exception": false,
     "start_time": "2024-04-03T09:29:55.468856",
     "status": "completed"
    },
    "tags": []
   },
   "outputs": [],
   "source": [
    "df_cleaned['Avg_ma_close'] = df_cleaned.iloc[:, 0].expanding(min_periods=3).mean()"
   ]
  },
  {
   "cell_type": "code",
   "execution_count": 15,
   "id": "a6f76b7f",
   "metadata": {
    "execution": {
     "iopub.execute_input": "2024-04-03T09:29:55.537998Z",
     "iopub.status.busy": "2024-04-03T09:29:55.537454Z",
     "iopub.status.idle": "2024-04-03T09:29:55.548911Z",
     "shell.execute_reply": "2024-04-03T09:29:55.547067Z"
    },
    "papermill": {
     "duration": 0.033529,
     "end_time": "2024-04-03T09:29:55.552509",
     "exception": false,
     "start_time": "2024-04-03T09:29:55.518980",
     "status": "completed"
    },
    "tags": []
   },
   "outputs": [],
   "source": [
    "df_cleaned.dropna(inplace=True)"
   ]
  },
  {
   "cell_type": "markdown",
   "id": "5e3fb3be",
   "metadata": {
    "papermill": {
     "duration": 0.01553,
     "end_time": "2024-04-03T09:29:55.583767",
     "exception": false,
     "start_time": "2024-04-03T09:29:55.568237",
     "status": "completed"
    },
    "tags": []
   },
   "source": [
    "# Splitting data"
   ]
  },
  {
   "cell_type": "code",
   "execution_count": 16,
   "id": "916879c9",
   "metadata": {
    "execution": {
     "iopub.execute_input": "2024-04-03T09:29:55.618889Z",
     "iopub.status.busy": "2024-04-03T09:29:55.618342Z",
     "iopub.status.idle": "2024-04-03T09:29:55.626781Z",
     "shell.execute_reply": "2024-04-03T09:29:55.625156Z"
    },
    "papermill": {
     "duration": 0.0294,
     "end_time": "2024-04-03T09:29:55.629715",
     "exception": false,
     "start_time": "2024-04-03T09:29:55.600315",
     "status": "completed"
    },
    "tags": []
   },
   "outputs": [],
   "source": [
    "X = df_cleaned.drop(columns='Close').values\n",
    "y = df_cleaned['Close'].values"
   ]
  },
  {
   "cell_type": "code",
   "execution_count": 17,
   "id": "67314a71",
   "metadata": {
    "execution": {
     "iopub.execute_input": "2024-04-03T09:29:55.663798Z",
     "iopub.status.busy": "2024-04-03T09:29:55.663231Z",
     "iopub.status.idle": "2024-04-03T09:29:55.672803Z",
     "shell.execute_reply": "2024-04-03T09:29:55.670793Z"
    },
    "papermill": {
     "duration": 0.031121,
     "end_time": "2024-04-03T09:29:55.676531",
     "exception": false,
     "start_time": "2024-04-03T09:29:55.645410",
     "status": "completed"
    },
    "tags": []
   },
   "outputs": [
    {
     "data": {
      "text/plain": [
       "array([[ 385.55      ,  371.5       ,  379.81      ,  376.13333333],\n",
       "       [ 383.        ,  384.9       ,  379.88      ,  377.85      ],\n",
       "       [ 377.5       ,  376.        ,  383.38      ,  377.78      ],\n",
       "       ...,\n",
       "       [2574.35      , 2588.        , 2605.91      , 1246.48549208],\n",
       "       [2614.55      , 2630.        , 2607.33      , 1246.74337418],\n",
       "       [2613.45      , 2595.        , 2558.66      , 1247.00095175]])"
      ]
     },
     "execution_count": 17,
     "metadata": {},
     "output_type": "execute_result"
    }
   ],
   "source": [
    "X"
   ]
  },
  {
   "cell_type": "code",
   "execution_count": 18,
   "id": "22dc0729",
   "metadata": {
    "execution": {
     "iopub.execute_input": "2024-04-03T09:29:55.714462Z",
     "iopub.status.busy": "2024-04-03T09:29:55.713928Z",
     "iopub.status.idle": "2024-04-03T09:29:55.723156Z",
     "shell.execute_reply": "2024-04-03T09:29:55.721608Z"
    },
    "papermill": {
     "duration": 0.031398,
     "end_time": "2024-04-03T09:29:55.726283",
     "exception": false,
     "start_time": "2024-04-03T09:29:55.694885",
     "status": "completed"
    },
    "tags": []
   },
   "outputs": [
    {
     "data": {
      "text/plain": [
       "(5304, 4)"
      ]
     },
     "execution_count": 18,
     "metadata": {},
     "output_type": "execute_result"
    }
   ],
   "source": [
    "X.shape"
   ]
  },
  {
   "cell_type": "markdown",
   "id": "9cc3e12c",
   "metadata": {
    "papermill": {
     "duration": 0.016859,
     "end_time": "2024-04-03T09:29:55.760407",
     "exception": false,
     "start_time": "2024-04-03T09:29:55.743548",
     "status": "completed"
    },
    "tags": []
   },
   "source": [
    "<div style='background-color: #8f5774; text-align: center; border-radius: 20px; font-size:20px'>\n",
    "In the presence of outliers, StandardScaler does not guarantee balanced feature scales, due to the influence of the outliers while computing the empirical mean and standard deviation. This leads to the shrinkage in the range of the feature values. \n",
    "By using RobustScaler(), we can remove the outliers and then use either StandardScaler or MinMaxScaler for preprocessing the dataset. \n",
    "</div>\n"
   ]
  },
  {
   "cell_type": "code",
   "execution_count": 19,
   "id": "c88a5e19",
   "metadata": {
    "execution": {
     "iopub.execute_input": "2024-04-03T09:29:55.798049Z",
     "iopub.status.busy": "2024-04-03T09:29:55.797481Z",
     "iopub.status.idle": "2024-04-03T09:29:55.813369Z",
     "shell.execute_reply": "2024-04-03T09:29:55.811297Z"
    },
    "papermill": {
     "duration": 0.039878,
     "end_time": "2024-04-03T09:29:55.816856",
     "exception": false,
     "start_time": "2024-04-03T09:29:55.776978",
     "status": "completed"
    },
    "tags": []
   },
   "outputs": [],
   "source": [
    "x_robust_scaler = RobustScaler()\n",
    "y_robust_scaler = RobustScaler()\n",
    "X = x_robust_scaler.fit_transform(X)\n",
    "y = y_robust_scaler.fit_transform(y.reshape(-1, 1))"
   ]
  },
  {
   "cell_type": "code",
   "execution_count": 20,
   "id": "e5df1308",
   "metadata": {
    "execution": {
     "iopub.execute_input": "2024-04-03T09:29:55.851038Z",
     "iopub.status.busy": "2024-04-03T09:29:55.850542Z",
     "iopub.status.idle": "2024-04-03T09:29:55.860165Z",
     "shell.execute_reply": "2024-04-03T09:29:55.858565Z"
    },
    "papermill": {
     "duration": 0.030589,
     "end_time": "2024-04-03T09:29:55.863428",
     "exception": false,
     "start_time": "2024-04-03T09:29:55.832839",
     "status": "completed"
    },
    "tags": []
   },
   "outputs": [],
   "source": [
    "x_minmax_scaler = MinMaxScaler()\n",
    "y_minmax_scaler = MinMaxScaler()\n",
    "X = x_minmax_scaler.fit_transform(X)\n",
    "y = y_minmax_scaler.fit_transform(y)"
   ]
  },
  {
   "cell_type": "code",
   "execution_count": 21,
   "id": "fee27a93",
   "metadata": {
    "execution": {
     "iopub.execute_input": "2024-04-03T09:29:55.900508Z",
     "iopub.status.busy": "2024-04-03T09:29:55.899946Z",
     "iopub.status.idle": "2024-04-03T09:29:55.907099Z",
     "shell.execute_reply": "2024-04-03T09:29:55.905404Z"
    },
    "papermill": {
     "duration": 0.028746,
     "end_time": "2024-04-03T09:29:55.910432",
     "exception": false,
     "start_time": "2024-04-03T09:29:55.881686",
     "status": "completed"
    },
    "tags": []
   },
   "outputs": [],
   "source": [
    "X_train = X[:4000]\n",
    "X_test = X[4000:]\n",
    "\n",
    "y_train = y[:4000]\n",
    "y_test = y[4000:]"
   ]
  },
  {
   "cell_type": "code",
   "execution_count": 22,
   "id": "a3c472ee",
   "metadata": {
    "execution": {
     "iopub.execute_input": "2024-04-03T09:29:55.947148Z",
     "iopub.status.busy": "2024-04-03T09:29:55.946637Z",
     "iopub.status.idle": "2024-04-03T09:29:55.956431Z",
     "shell.execute_reply": "2024-04-03T09:29:55.954825Z"
    },
    "papermill": {
     "duration": 0.031652,
     "end_time": "2024-04-03T09:29:55.959645",
     "exception": false,
     "start_time": "2024-04-03T09:29:55.927993",
     "status": "completed"
    },
    "tags": []
   },
   "outputs": [
    {
     "data": {
      "text/plain": [
       "(4000, 4)"
      ]
     },
     "execution_count": 22,
     "metadata": {},
     "output_type": "execute_result"
    }
   ],
   "source": [
    "X_train.shape"
   ]
  },
  {
   "cell_type": "code",
   "execution_count": 23,
   "id": "2f280d15",
   "metadata": {
    "execution": {
     "iopub.execute_input": "2024-04-03T09:29:55.995796Z",
     "iopub.status.busy": "2024-04-03T09:29:55.995220Z",
     "iopub.status.idle": "2024-04-03T09:29:56.005748Z",
     "shell.execute_reply": "2024-04-03T09:29:56.003331Z"
    },
    "papermill": {
     "duration": 0.031768,
     "end_time": "2024-04-03T09:29:56.009071",
     "exception": false,
     "start_time": "2024-04-03T09:29:55.977303",
     "status": "completed"
    },
    "tags": []
   },
   "outputs": [
    {
     "data": {
      "text/plain": [
       "(4000, 1)"
      ]
     },
     "execution_count": 23,
     "metadata": {},
     "output_type": "execute_result"
    }
   ],
   "source": [
    "y_train.shape"
   ]
  },
  {
   "cell_type": "code",
   "execution_count": 24,
   "id": "61d58696",
   "metadata": {
    "execution": {
     "iopub.execute_input": "2024-04-03T09:29:56.045448Z",
     "iopub.status.busy": "2024-04-03T09:29:56.044898Z",
     "iopub.status.idle": "2024-04-03T09:29:56.051326Z",
     "shell.execute_reply": "2024-04-03T09:29:56.049862Z"
    },
    "papermill": {
     "duration": 0.028662,
     "end_time": "2024-04-03T09:29:56.054430",
     "exception": false,
     "start_time": "2024-04-03T09:29:56.025768",
     "status": "completed"
    },
    "tags": []
   },
   "outputs": [],
   "source": [
    "X_train = X_train.reshape((-1,1,4))\n",
    "X_test = X_test.reshape((-1,1,4))"
   ]
  },
  {
   "cell_type": "markdown",
   "id": "8bcd7e1f",
   "metadata": {
    "papermill": {
     "duration": 0.018036,
     "end_time": "2024-04-03T09:29:56.089722",
     "exception": false,
     "start_time": "2024-04-03T09:29:56.071686",
     "status": "completed"
    },
    "tags": []
   },
   "source": [
    "# Training Model"
   ]
  },
  {
   "cell_type": "code",
   "execution_count": 25,
   "id": "5cee0e24",
   "metadata": {
    "execution": {
     "iopub.execute_input": "2024-04-03T09:29:56.127830Z",
     "iopub.status.busy": "2024-04-03T09:29:56.127327Z",
     "iopub.status.idle": "2024-04-03T09:29:56.345406Z",
     "shell.execute_reply": "2024-04-03T09:29:56.343810Z"
    },
    "papermill": {
     "duration": 0.240762,
     "end_time": "2024-04-03T09:29:56.349023",
     "exception": false,
     "start_time": "2024-04-03T09:29:56.108261",
     "status": "completed"
    },
    "tags": []
   },
   "outputs": [],
   "source": [
    "model = tf.keras.Sequential([\n",
    "    Input((1, 4)),\n",
    "    GRU(units=214, return_sequences=True),\n",
    "    Dropout(0.2),\n",
    "    GRU(units=214),\n",
    "    Dropout(0.2),\n",
    "    Dense(units=1, activation='linear')\n",
    "])"
   ]
  },
  {
   "cell_type": "code",
   "execution_count": 26,
   "id": "cea5708b",
   "metadata": {
    "execution": {
     "iopub.execute_input": "2024-04-03T09:29:56.391938Z",
     "iopub.status.busy": "2024-04-03T09:29:56.391334Z",
     "iopub.status.idle": "2024-04-03T09:29:56.423829Z",
     "shell.execute_reply": "2024-04-03T09:29:56.422376Z"
    },
    "papermill": {
     "duration": 0.057021,
     "end_time": "2024-04-03T09:29:56.427212",
     "exception": false,
     "start_time": "2024-04-03T09:29:56.370191",
     "status": "completed"
    },
    "tags": []
   },
   "outputs": [
    {
     "data": {
      "text/html": [
       "<pre style=\"white-space:pre;overflow-x:auto;line-height:normal;font-family:Menlo,'DejaVu Sans Mono',consolas,'Courier New',monospace\"><span style=\"font-weight: bold\">Model: \"sequential\"</span>\n",
       "</pre>\n"
      ],
      "text/plain": [
       "\u001b[1mModel: \"sequential\"\u001b[0m\n"
      ]
     },
     "metadata": {},
     "output_type": "display_data"
    },
    {
     "data": {
      "text/html": [
       "<pre style=\"white-space:pre;overflow-x:auto;line-height:normal;font-family:Menlo,'DejaVu Sans Mono',consolas,'Courier New',monospace\">┏━━━━━━━━━━━━━━━━━━━━━━━━━━━━━━━━━┳━━━━━━━━━━━━━━━━━━━━━━━━┳━━━━━━━━━━━━━━━┓\n",
       "┃<span style=\"font-weight: bold\"> Layer (type)                    </span>┃<span style=\"font-weight: bold\"> Output Shape           </span>┃<span style=\"font-weight: bold\">       Param # </span>┃\n",
       "┡━━━━━━━━━━━━━━━━━━━━━━━━━━━━━━━━━╇━━━━━━━━━━━━━━━━━━━━━━━━╇━━━━━━━━━━━━━━━┩\n",
       "│ gru (<span style=\"color: #0087ff; text-decoration-color: #0087ff\">GRU</span>)                       │ (<span style=\"color: #00d7ff; text-decoration-color: #00d7ff\">None</span>, <span style=\"color: #00af00; text-decoration-color: #00af00\">1</span>, <span style=\"color: #00af00; text-decoration-color: #00af00\">214</span>)         │       <span style=\"color: #00af00; text-decoration-color: #00af00\">141,240</span> │\n",
       "├─────────────────────────────────┼────────────────────────┼───────────────┤\n",
       "│ dropout (<span style=\"color: #0087ff; text-decoration-color: #0087ff\">Dropout</span>)               │ (<span style=\"color: #00d7ff; text-decoration-color: #00d7ff\">None</span>, <span style=\"color: #00af00; text-decoration-color: #00af00\">1</span>, <span style=\"color: #00af00; text-decoration-color: #00af00\">214</span>)         │             <span style=\"color: #00af00; text-decoration-color: #00af00\">0</span> │\n",
       "├─────────────────────────────────┼────────────────────────┼───────────────┤\n",
       "│ gru_1 (<span style=\"color: #0087ff; text-decoration-color: #0087ff\">GRU</span>)                     │ (<span style=\"color: #00d7ff; text-decoration-color: #00d7ff\">None</span>, <span style=\"color: #00af00; text-decoration-color: #00af00\">214</span>)            │       <span style=\"color: #00af00; text-decoration-color: #00af00\">276,060</span> │\n",
       "├─────────────────────────────────┼────────────────────────┼───────────────┤\n",
       "│ dropout_1 (<span style=\"color: #0087ff; text-decoration-color: #0087ff\">Dropout</span>)             │ (<span style=\"color: #00d7ff; text-decoration-color: #00d7ff\">None</span>, <span style=\"color: #00af00; text-decoration-color: #00af00\">214</span>)            │             <span style=\"color: #00af00; text-decoration-color: #00af00\">0</span> │\n",
       "├─────────────────────────────────┼────────────────────────┼───────────────┤\n",
       "│ dense (<span style=\"color: #0087ff; text-decoration-color: #0087ff\">Dense</span>)                   │ (<span style=\"color: #00d7ff; text-decoration-color: #00d7ff\">None</span>, <span style=\"color: #00af00; text-decoration-color: #00af00\">1</span>)              │           <span style=\"color: #00af00; text-decoration-color: #00af00\">215</span> │\n",
       "└─────────────────────────────────┴────────────────────────┴───────────────┘\n",
       "</pre>\n"
      ],
      "text/plain": [
       "┏━━━━━━━━━━━━━━━━━━━━━━━━━━━━━━━━━┳━━━━━━━━━━━━━━━━━━━━━━━━┳━━━━━━━━━━━━━━━┓\n",
       "┃\u001b[1m \u001b[0m\u001b[1mLayer (type)                   \u001b[0m\u001b[1m \u001b[0m┃\u001b[1m \u001b[0m\u001b[1mOutput Shape          \u001b[0m\u001b[1m \u001b[0m┃\u001b[1m \u001b[0m\u001b[1m      Param #\u001b[0m\u001b[1m \u001b[0m┃\n",
       "┡━━━━━━━━━━━━━━━━━━━━━━━━━━━━━━━━━╇━━━━━━━━━━━━━━━━━━━━━━━━╇━━━━━━━━━━━━━━━┩\n",
       "│ gru (\u001b[38;5;33mGRU\u001b[0m)                       │ (\u001b[38;5;45mNone\u001b[0m, \u001b[38;5;34m1\u001b[0m, \u001b[38;5;34m214\u001b[0m)         │       \u001b[38;5;34m141,240\u001b[0m │\n",
       "├─────────────────────────────────┼────────────────────────┼───────────────┤\n",
       "│ dropout (\u001b[38;5;33mDropout\u001b[0m)               │ (\u001b[38;5;45mNone\u001b[0m, \u001b[38;5;34m1\u001b[0m, \u001b[38;5;34m214\u001b[0m)         │             \u001b[38;5;34m0\u001b[0m │\n",
       "├─────────────────────────────────┼────────────────────────┼───────────────┤\n",
       "│ gru_1 (\u001b[38;5;33mGRU\u001b[0m)                     │ (\u001b[38;5;45mNone\u001b[0m, \u001b[38;5;34m214\u001b[0m)            │       \u001b[38;5;34m276,060\u001b[0m │\n",
       "├─────────────────────────────────┼────────────────────────┼───────────────┤\n",
       "│ dropout_1 (\u001b[38;5;33mDropout\u001b[0m)             │ (\u001b[38;5;45mNone\u001b[0m, \u001b[38;5;34m214\u001b[0m)            │             \u001b[38;5;34m0\u001b[0m │\n",
       "├─────────────────────────────────┼────────────────────────┼───────────────┤\n",
       "│ dense (\u001b[38;5;33mDense\u001b[0m)                   │ (\u001b[38;5;45mNone\u001b[0m, \u001b[38;5;34m1\u001b[0m)              │           \u001b[38;5;34m215\u001b[0m │\n",
       "└─────────────────────────────────┴────────────────────────┴───────────────┘\n"
      ]
     },
     "metadata": {},
     "output_type": "display_data"
    },
    {
     "data": {
      "text/html": [
       "<pre style=\"white-space:pre;overflow-x:auto;line-height:normal;font-family:Menlo,'DejaVu Sans Mono',consolas,'Courier New',monospace\"><span style=\"font-weight: bold\"> Total params: </span><span style=\"color: #00af00; text-decoration-color: #00af00\">417,515</span> (1.59 MB)\n",
       "</pre>\n"
      ],
      "text/plain": [
       "\u001b[1m Total params: \u001b[0m\u001b[38;5;34m417,515\u001b[0m (1.59 MB)\n"
      ]
     },
     "metadata": {},
     "output_type": "display_data"
    },
    {
     "data": {
      "text/html": [
       "<pre style=\"white-space:pre;overflow-x:auto;line-height:normal;font-family:Menlo,'DejaVu Sans Mono',consolas,'Courier New',monospace\"><span style=\"font-weight: bold\"> Trainable params: </span><span style=\"color: #00af00; text-decoration-color: #00af00\">417,515</span> (1.59 MB)\n",
       "</pre>\n"
      ],
      "text/plain": [
       "\u001b[1m Trainable params: \u001b[0m\u001b[38;5;34m417,515\u001b[0m (1.59 MB)\n"
      ]
     },
     "metadata": {},
     "output_type": "display_data"
    },
    {
     "data": {
      "text/html": [
       "<pre style=\"white-space:pre;overflow-x:auto;line-height:normal;font-family:Menlo,'DejaVu Sans Mono',consolas,'Courier New',monospace\"><span style=\"font-weight: bold\"> Non-trainable params: </span><span style=\"color: #00af00; text-decoration-color: #00af00\">0</span> (0.00 B)\n",
       "</pre>\n"
      ],
      "text/plain": [
       "\u001b[1m Non-trainable params: \u001b[0m\u001b[38;5;34m0\u001b[0m (0.00 B)\n"
      ]
     },
     "metadata": {},
     "output_type": "display_data"
    }
   ],
   "source": [
    "model.summary()"
   ]
  },
  {
   "cell_type": "code",
   "execution_count": 27,
   "id": "071f77d5",
   "metadata": {
    "execution": {
     "iopub.execute_input": "2024-04-03T09:29:56.467019Z",
     "iopub.status.busy": "2024-04-03T09:29:56.466243Z",
     "iopub.status.idle": "2024-04-03T09:29:56.474459Z",
     "shell.execute_reply": "2024-04-03T09:29:56.472285Z"
    },
    "papermill": {
     "duration": 0.032814,
     "end_time": "2024-04-03T09:29:56.478040",
     "exception": false,
     "start_time": "2024-04-03T09:29:56.445226",
     "status": "completed"
    },
    "tags": []
   },
   "outputs": [],
   "source": [
    "early_stopping = tf.keras.callbacks.EarlyStopping(\n",
    "    patience = 10,\n",
    "    monitor='val_loss'\n",
    ")"
   ]
  },
  {
   "cell_type": "code",
   "execution_count": 28,
   "id": "78865cb0",
   "metadata": {
    "execution": {
     "iopub.execute_input": "2024-04-03T09:29:56.519737Z",
     "iopub.status.busy": "2024-04-03T09:29:56.518684Z",
     "iopub.status.idle": "2024-04-03T09:29:56.540521Z",
     "shell.execute_reply": "2024-04-03T09:29:56.538483Z"
    },
    "papermill": {
     "duration": 0.046263,
     "end_time": "2024-04-03T09:29:56.543894",
     "exception": false,
     "start_time": "2024-04-03T09:29:56.497631",
     "status": "completed"
    },
    "tags": []
   },
   "outputs": [],
   "source": [
    "model.compile(loss='mse', optimizer='adam')"
   ]
  },
  {
   "cell_type": "code",
   "execution_count": 29,
   "id": "398d4e25",
   "metadata": {
    "execution": {
     "iopub.execute_input": "2024-04-03T09:29:56.690187Z",
     "iopub.status.busy": "2024-04-03T09:29:56.689437Z",
     "iopub.status.idle": "2024-04-03T09:30:16.773643Z",
     "shell.execute_reply": "2024-04-03T09:30:16.771775Z"
    },
    "papermill": {
     "duration": 20.212825,
     "end_time": "2024-04-03T09:30:16.777066",
     "exception": false,
     "start_time": "2024-04-03T09:29:56.564241",
     "status": "completed"
    },
    "tags": []
   },
   "outputs": [
    {
     "name": "stdout",
     "output_type": "stream",
     "text": [
      "Epoch 1/100\n",
      "\u001b[1m14/14\u001b[0m \u001b[32m━━━━━━━━━━━━━━━━━━━━\u001b[0m\u001b[37m\u001b[0m \u001b[1m6s\u001b[0m 65ms/step - loss: 0.0544 - val_loss: 0.0627\n",
      "Epoch 2/100\n",
      "\u001b[1m14/14\u001b[0m \u001b[32m━━━━━━━━━━━━━━━━━━━━\u001b[0m\u001b[37m\u001b[0m \u001b[1m0s\u001b[0m 26ms/step - loss: 0.0030 - val_loss: 0.0339\n",
      "Epoch 3/100\n",
      "\u001b[1m14/14\u001b[0m \u001b[32m━━━━━━━━━━━━━━━━━━━━\u001b[0m\u001b[37m\u001b[0m \u001b[1m0s\u001b[0m 26ms/step - loss: 0.0018 - val_loss: 0.0200\n",
      "Epoch 4/100\n",
      "\u001b[1m14/14\u001b[0m \u001b[32m━━━━━━━━━━━━━━━━━━━━\u001b[0m\u001b[37m\u001b[0m \u001b[1m0s\u001b[0m 27ms/step - loss: 9.3608e-04 - val_loss: 0.0226\n",
      "Epoch 5/100\n",
      "\u001b[1m14/14\u001b[0m \u001b[32m━━━━━━━━━━━━━━━━━━━━\u001b[0m\u001b[37m\u001b[0m \u001b[1m0s\u001b[0m 29ms/step - loss: 6.6940e-04 - val_loss: 0.0165\n",
      "Epoch 6/100\n",
      "\u001b[1m14/14\u001b[0m \u001b[32m━━━━━━━━━━━━━━━━━━━━\u001b[0m\u001b[37m\u001b[0m \u001b[1m1s\u001b[0m 26ms/step - loss: 5.2915e-04 - val_loss: 0.0123\n",
      "Epoch 7/100\n",
      "\u001b[1m14/14\u001b[0m \u001b[32m━━━━━━━━━━━━━━━━━━━━\u001b[0m\u001b[37m\u001b[0m \u001b[1m1s\u001b[0m 29ms/step - loss: 5.3365e-04 - val_loss: 0.0086\n",
      "Epoch 8/100\n",
      "\u001b[1m14/14\u001b[0m \u001b[32m━━━━━━━━━━━━━━━━━━━━\u001b[0m\u001b[37m\u001b[0m \u001b[1m0s\u001b[0m 27ms/step - loss: 4.7595e-04 - val_loss: 0.0062\n",
      "Epoch 9/100\n",
      "\u001b[1m14/14\u001b[0m \u001b[32m━━━━━━━━━━━━━━━━━━━━\u001b[0m\u001b[37m\u001b[0m \u001b[1m0s\u001b[0m 30ms/step - loss: 5.0004e-04 - val_loss: 0.0038\n",
      "Epoch 10/100\n",
      "\u001b[1m14/14\u001b[0m \u001b[32m━━━━━━━━━━━━━━━━━━━━\u001b[0m\u001b[37m\u001b[0m \u001b[1m0s\u001b[0m 27ms/step - loss: 5.0339e-04 - val_loss: 0.0024\n",
      "Epoch 11/100\n",
      "\u001b[1m14/14\u001b[0m \u001b[32m━━━━━━━━━━━━━━━━━━━━\u001b[0m\u001b[37m\u001b[0m \u001b[1m1s\u001b[0m 28ms/step - loss: 4.2123e-04 - val_loss: 0.0015\n",
      "Epoch 12/100\n",
      "\u001b[1m14/14\u001b[0m \u001b[32m━━━━━━━━━━━━━━━━━━━━\u001b[0m\u001b[37m\u001b[0m \u001b[1m0s\u001b[0m 28ms/step - loss: 4.2093e-04 - val_loss: 8.5656e-04\n",
      "Epoch 13/100\n",
      "\u001b[1m14/14\u001b[0m \u001b[32m━━━━━━━━━━━━━━━━━━━━\u001b[0m\u001b[37m\u001b[0m \u001b[1m0s\u001b[0m 27ms/step - loss: 4.1560e-04 - val_loss: 5.8464e-04\n",
      "Epoch 14/100\n",
      "\u001b[1m14/14\u001b[0m \u001b[32m━━━━━━━━━━━━━━━━━━━━\u001b[0m\u001b[37m\u001b[0m \u001b[1m1s\u001b[0m 28ms/step - loss: 4.2035e-04 - val_loss: 3.8590e-04\n",
      "Epoch 15/100\n",
      "\u001b[1m14/14\u001b[0m \u001b[32m━━━━━━━━━━━━━━━━━━━━\u001b[0m\u001b[37m\u001b[0m \u001b[1m1s\u001b[0m 31ms/step - loss: 4.1792e-04 - val_loss: 1.6406e-04\n",
      "Epoch 16/100\n",
      "\u001b[1m14/14\u001b[0m \u001b[32m━━━━━━━━━━━━━━━━━━━━\u001b[0m\u001b[37m\u001b[0m \u001b[1m1s\u001b[0m 29ms/step - loss: 4.1481e-04 - val_loss: 1.4064e-04\n",
      "Epoch 17/100\n",
      "\u001b[1m14/14\u001b[0m \u001b[32m━━━━━━━━━━━━━━━━━━━━\u001b[0m\u001b[37m\u001b[0m \u001b[1m0s\u001b[0m 29ms/step - loss: 4.0472e-04 - val_loss: 4.8177e-05\n",
      "Epoch 18/100\n",
      "\u001b[1m14/14\u001b[0m \u001b[32m━━━━━━━━━━━━━━━━━━━━\u001b[0m\u001b[37m\u001b[0m \u001b[1m0s\u001b[0m 30ms/step - loss: 3.9694e-04 - val_loss: 8.3412e-05\n",
      "Epoch 19/100\n",
      "\u001b[1m14/14\u001b[0m \u001b[32m━━━━━━━━━━━━━━━━━━━━\u001b[0m\u001b[37m\u001b[0m \u001b[1m1s\u001b[0m 30ms/step - loss: 3.3165e-04 - val_loss: 3.3824e-06\n",
      "Epoch 20/100\n",
      "\u001b[1m14/14\u001b[0m \u001b[32m━━━━━━━━━━━━━━━━━━━━\u001b[0m\u001b[37m\u001b[0m \u001b[1m0s\u001b[0m 28ms/step - loss: 3.5943e-04 - val_loss: 1.0167e-05\n",
      "Epoch 21/100\n",
      "\u001b[1m14/14\u001b[0m \u001b[32m━━━━━━━━━━━━━━━━━━━━\u001b[0m\u001b[37m\u001b[0m \u001b[1m0s\u001b[0m 28ms/step - loss: 3.6469e-04 - val_loss: 3.7965e-05\n",
      "Epoch 22/100\n",
      "\u001b[1m14/14\u001b[0m \u001b[32m━━━━━━━━━━━━━━━━━━━━\u001b[0m\u001b[37m\u001b[0m \u001b[1m0s\u001b[0m 30ms/step - loss: 4.7132e-04 - val_loss: 9.9427e-06\n",
      "Epoch 23/100\n",
      "\u001b[1m14/14\u001b[0m \u001b[32m━━━━━━━━━━━━━━━━━━━━\u001b[0m\u001b[37m\u001b[0m \u001b[1m1s\u001b[0m 28ms/step - loss: 4.0048e-04 - val_loss: 5.0466e-05\n",
      "Epoch 24/100\n",
      "\u001b[1m14/14\u001b[0m \u001b[32m━━━━━━━━━━━━━━━━━━━━\u001b[0m\u001b[37m\u001b[0m \u001b[1m1s\u001b[0m 28ms/step - loss: 3.8062e-04 - val_loss: 5.6922e-06\n",
      "Epoch 25/100\n",
      "\u001b[1m14/14\u001b[0m \u001b[32m━━━━━━━━━━━━━━━━━━━━\u001b[0m\u001b[37m\u001b[0m \u001b[1m0s\u001b[0m 29ms/step - loss: 3.8378e-04 - val_loss: 7.4701e-06\n",
      "Epoch 26/100\n",
      "\u001b[1m14/14\u001b[0m \u001b[32m━━━━━━━━━━━━━━━━━━━━\u001b[0m\u001b[37m\u001b[0m \u001b[1m0s\u001b[0m 28ms/step - loss: 3.4995e-04 - val_loss: 3.9099e-06\n",
      "Epoch 27/100\n",
      "\u001b[1m14/14\u001b[0m \u001b[32m━━━━━━━━━━━━━━━━━━━━\u001b[0m\u001b[37m\u001b[0m \u001b[1m0s\u001b[0m 30ms/step - loss: 3.0510e-04 - val_loss: 3.5357e-06\n",
      "Epoch 28/100\n",
      "\u001b[1m14/14\u001b[0m \u001b[32m━━━━━━━━━━━━━━━━━━━━\u001b[0m\u001b[37m\u001b[0m \u001b[1m0s\u001b[0m 27ms/step - loss: 3.2712e-04 - val_loss: 3.5733e-06\n",
      "Epoch 29/100\n",
      "\u001b[1m14/14\u001b[0m \u001b[32m━━━━━━━━━━━━━━━━━━━━\u001b[0m\u001b[37m\u001b[0m \u001b[1m0s\u001b[0m 28ms/step - loss: 3.1281e-04 - val_loss: 4.2758e-06\n"
     ]
    }
   ],
   "source": [
    "history = model.fit(\n",
    "    X_train,\n",
    "    y_train,\n",
    "    batch_size=250, \n",
    "    epochs=100, \n",
    "    validation_split=0.15,\n",
    "    callbacks = [early_stopping]\n",
    ")"
   ]
  },
  {
   "cell_type": "markdown",
   "id": "2428f3c0",
   "metadata": {
    "papermill": {
     "duration": 0.042639,
     "end_time": "2024-04-03T09:30:16.861685",
     "exception": false,
     "start_time": "2024-04-03T09:30:16.819046",
     "status": "completed"
    },
    "tags": []
   },
   "source": [
    "# Evaluating Model"
   ]
  },
  {
   "cell_type": "code",
   "execution_count": 30,
   "id": "aedf0a46",
   "metadata": {
    "execution": {
     "iopub.execute_input": "2024-04-03T09:30:16.952669Z",
     "iopub.status.busy": "2024-04-03T09:30:16.952113Z",
     "iopub.status.idle": "2024-04-03T09:30:17.304479Z",
     "shell.execute_reply": "2024-04-03T09:30:17.302772Z"
    },
    "papermill": {
     "duration": 0.400559,
     "end_time": "2024-04-03T09:30:17.308162",
     "exception": false,
     "start_time": "2024-04-03T09:30:16.907603",
     "status": "completed"
    },
    "tags": []
   },
   "outputs": [
    {
     "name": "stdout",
     "output_type": "stream",
     "text": [
      "\u001b[1m41/41\u001b[0m \u001b[32m━━━━━━━━━━━━━━━━━━━━\u001b[0m\u001b[37m\u001b[0m \u001b[1m0s\u001b[0m 6ms/step - loss: 6.3512e-06\n"
     ]
    },
    {
     "data": {
      "text/plain": [
       "1.2935222912346944e-05"
      ]
     },
     "execution_count": 30,
     "metadata": {},
     "output_type": "execute_result"
    }
   ],
   "source": [
    "model.evaluate(X_test, y_test)"
   ]
  },
  {
   "cell_type": "code",
   "execution_count": 31,
   "id": "1eea4a16",
   "metadata": {
    "execution": {
     "iopub.execute_input": "2024-04-03T09:30:17.398578Z",
     "iopub.status.busy": "2024-04-03T09:30:17.397422Z",
     "iopub.status.idle": "2024-04-03T09:30:18.622406Z",
     "shell.execute_reply": "2024-04-03T09:30:18.620441Z"
    },
    "papermill": {
     "duration": 1.273633,
     "end_time": "2024-04-03T09:30:18.626050",
     "exception": false,
     "start_time": "2024-04-03T09:30:17.352417",
     "status": "completed"
    },
    "tags": []
   },
   "outputs": [
    {
     "name": "stdout",
     "output_type": "stream",
     "text": [
      "\u001b[1m41/41\u001b[0m \u001b[32m━━━━━━━━━━━━━━━━━━━━\u001b[0m\u001b[37m\u001b[0m \u001b[1m1s\u001b[0m 16ms/step\n"
     ]
    }
   ],
   "source": [
    "y_pred = model.predict(X_test)"
   ]
  },
  {
   "cell_type": "code",
   "execution_count": 32,
   "id": "c9e7964b",
   "metadata": {
    "execution": {
     "iopub.execute_input": "2024-04-03T09:30:18.717913Z",
     "iopub.status.busy": "2024-04-03T09:30:18.717512Z",
     "iopub.status.idle": "2024-04-03T09:30:18.725384Z",
     "shell.execute_reply": "2024-04-03T09:30:18.723695Z"
    },
    "papermill": {
     "duration": 0.057891,
     "end_time": "2024-04-03T09:30:18.728662",
     "exception": false,
     "start_time": "2024-04-03T09:30:18.670771",
     "status": "completed"
    },
    "tags": []
   },
   "outputs": [],
   "source": [
    "y_test = y_minmax_scaler.inverse_transform(y_test)\n",
    "y_pred = y_minmax_scaler.inverse_transform(y_pred) \n",
    "\n",
    "y_test = y_robust_scaler.inverse_transform(y_test)\n",
    "y_pred = y_robust_scaler.inverse_transform(y_pred) "
   ]
  },
  {
   "cell_type": "code",
   "execution_count": 33,
   "id": "8a8d4e52",
   "metadata": {
    "execution": {
     "iopub.execute_input": "2024-04-03T09:30:18.823595Z",
     "iopub.status.busy": "2024-04-03T09:30:18.822183Z",
     "iopub.status.idle": "2024-04-03T09:30:19.174004Z",
     "shell.execute_reply": "2024-04-03T09:30:19.172576Z"
    },
    "papermill": {
     "duration": 0.40292,
     "end_time": "2024-04-03T09:30:19.176703",
     "exception": false,
     "start_time": "2024-04-03T09:30:18.773783",
     "status": "completed"
    },
    "tags": []
   },
   "outputs": [
    {
     "data": {
      "image/png": "[encoded data removed]",
      "text/plain": [
       "<Figure size 640x480 with 1 Axes>"
      ]
     },
     "metadata": {},
     "output_type": "display_data"
    }
   ],
   "source": [
    "plt.scatter(y_test, y_pred)\n",
    "plt.xlabel(\"Actual Values (y_test)\")\n",
    "plt.ylabel(\"Predicted Values (y_pred)\")\n",
    "plt.title(\"Actual vs. Predicted\")\n",
    "plt.show()"
   ]
  },
  {
   "cell_type": "code",
   "execution_count": null,
   "id": "8b2dcddb",
   "metadata": {
    "papermill": {
     "duration": 0.039361,
     "end_time": "2024-04-03T09:30:19.256143",
     "exception": false,
     "start_time": "2024-04-03T09:30:19.216782",
     "status": "completed"
    },
    "tags": []
   },
   "outputs": [],
   "source": []
  }
 ],
 "metadata": {
  "kaggle": {
   "accelerator": "none",
   "dataSources": [
    {
     "datasetId": 423609,
     "sourceId": 2179861,
     "sourceType": "datasetVersion"
    }
   ],
   "dockerImageVersionId": 30673,
   "isGpuEnabled": false,
   "isInternetEnabled": true,
   "language": "python",
   "sourceType": "notebook"
  },
  "kernelspec": {
   "display_name": "Python 3",
   "language": "python",
   "name": "python3"
  },
  "language_info": {
   "codemirror_mode": {
    "name": "ipython",
    "version": 3
   },
   "file_extension": ".py",
   "mimetype": "text/x-python",
   "name": "python",
   "nbconvert_exporter": "python",
   "pygments_lexer": "ipython3",
   "version": "3.10.13"
  },
  "papermill": {
   "default_parameters": {},
   "duration": 111.258441,
   "end_time": "2024-04-03T09:30:21.923730",
   "environment_variables": {},
   "exception": null,
   "input_path": "__notebook__.ipynb",
   "output_path": "__notebook__.ipynb",
   "parameters": {},
   "start_time": "2024-04-03T09:28:30.665289",
   "version": "2.5.0"
  }
 },
 "nbformat": 4,
 "nbformat_minor": 5
}
